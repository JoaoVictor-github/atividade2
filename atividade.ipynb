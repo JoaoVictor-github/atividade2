{
 "cells": [
  {
   "cell_type": "code",
   "execution_count": 1,
   "metadata": {},
   "outputs": [
    {
     "name": "stdout",
     "output_type": "stream",
     "text": [
      "False\n",
      "True\n",
      "False\n",
      "True\n",
      "False\n"
     ]
    }
   ],
   "source": [
    "valor1 = input('digite um numero inteiro: ')\n",
    "valor2 = input('digite outro numero inteiro: ')\n",
    "\n",
    "print(valor1 == valor2)\n",
    "print(valor1 > valor2)\n",
    "print(valor1 < valor2)\n",
    "print(valor1 >= valor2)\n",
    "print(valor1 <= valor2)\n"
   ]
  },
  {
   "cell_type": "code",
   "execution_count": 2,
   "metadata": {},
   "outputs": [],
   "source": [
    "L = []\n",
    "L=list[0]\n"
   ]
  },
  {
   "cell_type": "code",
   "execution_count": 3,
   "metadata": {},
   "outputs": [
    {
     "data": {
      "text/plain": [
       "10"
      ]
     },
     "execution_count": 3,
     "metadata": {},
     "output_type": "execute_result"
    }
   ],
   "source": [
    "dias=[3,1,10]\n",
    "\n",
    "dias[0]\n",
    "\n",
    "\n",
    "\n",
    "dias[1]\n",
    "\n",
    "dias[2]"
   ]
  },
  {
   "cell_type": "code",
   "execution_count": 4,
   "metadata": {},
   "outputs": [
    {
     "data": {
      "text/plain": [
       "[7, 8, 9]"
      ]
     },
     "execution_count": 4,
     "metadata": {},
     "output_type": "execute_result"
    }
   ],
   "source": [
    "Z=[3,8,9]\n",
    "Z[0]=7\n",
    "Z"
   ]
  },
  {
   "cell_type": "code",
   "execution_count": 5,
   "metadata": {},
   "outputs": [],
   "source": [
    "V= 67589"
   ]
  },
  {
   "cell_type": "code",
   "execution_count": 8,
   "metadata": {},
   "outputs": [
    {
     "name": "stdout",
     "output_type": "stream",
     "text": [
      "True\n",
      "False\n",
      "[81, 82, 83]\n",
      "[5, 82, 83]\n"
     ]
    }
   ],
   "source": [
    "a=[81,82,83]\n",
    "\n",
    "b= a[:]   #cria um clone com fatia\n",
    "\n",
    "print(a==b)\n",
    "\n",
    "print(a is b)\n",
    "\n",
    "b[0]=5\n",
    "\n",
    "print(a)\n",
    "\n",
    "print(b)\n"
   ]
  },
  {
   "cell_type": "code",
   "execution_count": 10,
   "metadata": {},
   "outputs": [
    {
     "ename": "SyntaxError",
     "evalue": "invalid syntax (1690078725.py, line 9)",
     "output_type": "error",
     "traceback": [
      "\u001b[1;36m  Cell \u001b[1;32mIn[10], line 9\u001b[1;36m\u001b[0m\n\u001b[1;33m    b= [:]\u001b[0m\n\u001b[1;37m        ^\u001b[0m\n\u001b[1;31mSyntaxError\u001b[0m\u001b[1;31m:\u001b[0m invalid syntax\n"
     ]
    }
   ],
   "source": [
    "uma_lista=['a','b','c','d','e','f',]\n",
    "\n",
    "print(uma_lista[1:3])\n",
    "print(uma_lista[:4])\n",
    "print(uma_lista[3:])\n",
    "print(uma_lista[:])\n",
    "\n",
    "a=[1,2,3]\n",
    "b= [:]\n",
    "b[0]=5\n",
    "print(a[3])\n"
   ]
  },
  {
   "cell_type": "code",
   "execution_count": null,
   "metadata": {},
   "outputs": [],
   "source": [
    "\n",
    "2) cria uma lista chamada ,minha lista com os seguintes itens: 76,92.3,\"oi\",true,4, 76.Depois execute os seguintes comandos:\n",
    "    \n",
    "a) Inserir \"pitomba\" e 76 no final da lista.\n",
    "    \n",
    " b)Inserir valor \"cibele\" na posição de indice 3.\n",
    "    \n",
    " c)Inserir o valor 99 no inicio da lista.\n",
    "    \n",
    "d) encontrar o indice de\"oi\".\n",
    "    \n",
    "e) remover true da lista."
   ]
  },
  {
   "cell_type": "code",
   "execution_count": 12,
   "metadata": {},
   "outputs": [
    {
     "data": {
      "text/plain": [
       "(10, 20, 30)"
      ]
     },
     "execution_count": 12,
     "metadata": {},
     "output_type": "execute_result"
    }
   ],
   "source": [
    "\n",
    "\n",
    "tupla_numeros = (10,20,30)\n",
    "tupla_numeros"
   ]
  },
  {
   "cell_type": "code",
   "execution_count": 13,
   "metadata": {},
   "outputs": [
    {
     "data": {
      "text/plain": [
       "(10,)"
      ]
     },
     "execution_count": 13,
     "metadata": {},
     "output_type": "execute_result"
    }
   ],
   "source": [
    "tupla_elemento =10,\n",
    "tupla_elemento"
   ]
  },
  {
   "cell_type": "code",
   "execution_count": 14,
   "metadata": {},
   "outputs": [
    {
     "name": "stdout",
     "output_type": "stream",
     "text": [
      "<class 'dict'>\n"
     ]
    }
   ],
   "source": [
    "dicio = {'chave':'valor'}\n",
    "print(type(dicio))"
   ]
  },
  {
   "cell_type": "code",
   "execution_count": 15,
   "metadata": {},
   "outputs": [
    {
     "data": {
      "text/plain": [
       "35"
      ]
     },
     "execution_count": 15,
     "metadata": {},
     "output_type": "execute_result"
    }
   ],
   "source": [
    "d={'laranjas':15,'bananas':35,'siriguelas':12}\n",
    "d['bananas']"
   ]
  },
  {
   "cell_type": "code",
   "execution_count": 16,
   "metadata": {},
   "outputs": [
    {
     "data": {
      "text/plain": [
       "4"
      ]
     },
     "execution_count": 16,
     "metadata": {},
     "output_type": "execute_result"
    }
   ],
   "source": [
    "d['pitomba']=20\n",
    "len(d)"
   ]
  },
  {
   "cell_type": "code",
   "execution_count": 17,
   "metadata": {},
   "outputs": [
    {
     "data": {
      "text/plain": [
       "True"
      ]
     },
     "execution_count": 17,
     "metadata": {},
     "output_type": "execute_result"
    }
   ],
   "source": [
    "'pitomba' in d"
   ]
  },
  {
   "cell_type": "code",
   "execution_count": 18,
   "metadata": {},
   "outputs": [
    {
     "data": {
      "text/plain": [
       "False"
      ]
     },
     "execution_count": 18,
     "metadata": {},
     "output_type": "execute_result"
    }
   ],
   "source": [
    "'pears' in d"
   ]
  },
  {
   "cell_type": "code",
   "execution_count": 19,
   "metadata": {},
   "outputs": [
    {
     "data": {
      "text/plain": [
       "False"
      ]
     },
     "execution_count": 19,
     "metadata": {},
     "output_type": "execute_result"
    }
   ],
   "source": [
    "del d['laranjas']\n",
    "'laranjas' in d"
   ]
  },
  {
   "cell_type": "code",
   "execution_count": 20,
   "metadata": {},
   "outputs": [
    {
     "name": "stdout",
     "output_type": "stream",
     "text": [
      "[1, 2, 3, 4]\n",
      "['pinha', 'oiti coró', 'jaca', 'tamarindo', 6, 7, 8, 9]\n",
      "[0, 0, 0, 0]\n",
      "[1, 2, ['oi', 'tchau'], 1, 2, ['oi', 'tchau']]\n"
     ]
    }
   ],
   "source": [
    "frutas = [\"pinha\",\"oiti coró\",\"jaca\",\"tamarindo\"]\n",
    "print([1,2]+[3,4])\n",
    "print (frutas+ [6,7,8,9])\n",
    "print([0]*4)\n",
    "print([1,2,[\"oi\",\"tchau\"]]*2)"
   ]
  }
 ],
 "metadata": {
  "kernelspec": {
   "display_name": "Python 3",
   "language": "python",
   "name": "python3"
  },
  "language_info": {
   "codemirror_mode": {
    "name": "ipython",
    "version": 3
   },
   "file_extension": ".py",
   "mimetype": "text/x-python",
   "name": "python",
   "nbconvert_exporter": "python",
   "pygments_lexer": "ipython3",
   "version": "3.10.2"
  }
 },
 "nbformat": 4,
 "nbformat_minor": 2
}
